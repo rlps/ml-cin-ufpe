{
 "cells": [
  {
   "cell_type": "code",
   "execution_count": 1,
   "id": "9976baa4",
   "metadata": {},
   "outputs": [],
   "source": [
    "import pandas as pd\n",
    "import numpy as np\n",
    "import gc\n",
    "import matplotlib.pyplot as plt\n",
    "\n",
    "from scipy.spatial import distance_matrix, distance\n",
    "from tqdm.notebook import tqdm\n",
    "from collections import defaultdict\n",
    "from IPython.display import clear_output"
   ]
  },
  {
   "cell_type": "code",
   "execution_count": 2,
   "id": "7257ea18",
   "metadata": {},
   "outputs": [],
   "source": [
    "columns =[ \n",
    "'Profile_mean',\n",
    "'Profile_stdev',\n",
    "'Profile_skewness',\n",
    "'Profile_kurtosis',\n",
    "'DM_mean',\n",
    "'DM_stdev',\n",
    "'DM_skewness',\n",
    "'DM_kurtosis',\n",
    "'label'\n",
    "]"
   ]
  },
  {
   "cell_type": "code",
   "execution_count": 3,
   "id": "554e87cb",
   "metadata": {},
   "outputs": [],
   "source": [
    "df = pd.read_csv('HTRU2/HTRU_2.csv',header=None,names=columns)"
   ]
  },
  {
   "cell_type": "code",
   "execution_count": 4,
   "id": "8323ca85",
   "metadata": {},
   "outputs": [],
   "source": [
    "df = df.sample(frac=0.1).reset_index(drop=True)"
   ]
  },
  {
   "cell_type": "code",
   "execution_count": 5,
   "id": "9eeaab52",
   "metadata": {},
   "outputs": [],
   "source": [
    "labels = df.label\n",
    "df = df.drop(columns='label')"
   ]
  },
  {
   "cell_type": "code",
   "execution_count": 6,
   "id": "5ead3623",
   "metadata": {},
   "outputs": [
    {
     "name": "stdout",
     "output_type": "stream",
     "text": [
      "<class 'pandas.core.frame.DataFrame'>\n",
      "RangeIndex: 1790 entries, 0 to 1789\n",
      "Data columns (total 8 columns):\n",
      " #   Column            Non-Null Count  Dtype  \n",
      "---  ------            --------------  -----  \n",
      " 0   Profile_mean      1790 non-null   float64\n",
      " 1   Profile_stdev     1790 non-null   float64\n",
      " 2   Profile_skewness  1790 non-null   float64\n",
      " 3   Profile_kurtosis  1790 non-null   float64\n",
      " 4   DM_mean           1790 non-null   float64\n",
      " 5   DM_stdev          1790 non-null   float64\n",
      " 6   DM_skewness       1790 non-null   float64\n",
      " 7   DM_kurtosis       1790 non-null   float64\n",
      "dtypes: float64(8)\n",
      "memory usage: 112.0 KB\n"
     ]
    }
   ],
   "source": [
    "df.info()"
   ]
  },
  {
   "cell_type": "code",
   "execution_count": 7,
   "id": "b94660f5",
   "metadata": {},
   "outputs": [
    {
     "data": {
      "text/html": [
       "<div>\n",
       "<style scoped>\n",
       "    .dataframe tbody tr th:only-of-type {\n",
       "        vertical-align: middle;\n",
       "    }\n",
       "\n",
       "    .dataframe tbody tr th {\n",
       "        vertical-align: top;\n",
       "    }\n",
       "\n",
       "    .dataframe thead th {\n",
       "        text-align: right;\n",
       "    }\n",
       "</style>\n",
       "<table border=\"1\" class=\"dataframe\">\n",
       "  <thead>\n",
       "    <tr style=\"text-align: right;\">\n",
       "      <th></th>\n",
       "      <th>Profile_mean</th>\n",
       "      <th>Profile_stdev</th>\n",
       "      <th>Profile_skewness</th>\n",
       "      <th>Profile_kurtosis</th>\n",
       "      <th>DM_mean</th>\n",
       "      <th>DM_stdev</th>\n",
       "      <th>DM_skewness</th>\n",
       "      <th>DM_kurtosis</th>\n",
       "    </tr>\n",
       "  </thead>\n",
       "  <tbody>\n",
       "    <tr>\n",
       "      <th>0</th>\n",
       "      <td>117.406250</td>\n",
       "      <td>46.359404</td>\n",
       "      <td>0.046957</td>\n",
       "      <td>0.246530</td>\n",
       "      <td>0.954013</td>\n",
       "      <td>11.210157</td>\n",
       "      <td>15.409941</td>\n",
       "      <td>280.957981</td>\n",
       "    </tr>\n",
       "    <tr>\n",
       "      <th>1</th>\n",
       "      <td>109.351562</td>\n",
       "      <td>53.941605</td>\n",
       "      <td>0.257402</td>\n",
       "      <td>-0.273154</td>\n",
       "      <td>1.635452</td>\n",
       "      <td>13.826900</td>\n",
       "      <td>12.151938</td>\n",
       "      <td>173.734192</td>\n",
       "    </tr>\n",
       "    <tr>\n",
       "      <th>2</th>\n",
       "      <td>120.914062</td>\n",
       "      <td>54.850226</td>\n",
       "      <td>-0.039546</td>\n",
       "      <td>-0.564141</td>\n",
       "      <td>11.442308</td>\n",
       "      <td>43.475736</td>\n",
       "      <td>3.764980</td>\n",
       "      <td>12.969973</td>\n",
       "    </tr>\n",
       "    <tr>\n",
       "      <th>3</th>\n",
       "      <td>88.375000</td>\n",
       "      <td>40.547811</td>\n",
       "      <td>0.532864</td>\n",
       "      <td>1.281527</td>\n",
       "      <td>4.700669</td>\n",
       "      <td>27.483361</td>\n",
       "      <td>6.288800</td>\n",
       "      <td>40.712158</td>\n",
       "    </tr>\n",
       "    <tr>\n",
       "      <th>4</th>\n",
       "      <td>113.070312</td>\n",
       "      <td>49.034137</td>\n",
       "      <td>0.391063</td>\n",
       "      <td>0.227022</td>\n",
       "      <td>0.811037</td>\n",
       "      <td>10.397746</td>\n",
       "      <td>18.193799</td>\n",
       "      <td>384.449773</td>\n",
       "    </tr>\n",
       "  </tbody>\n",
       "</table>\n",
       "</div>"
      ],
      "text/plain": [
       "   Profile_mean  Profile_stdev  Profile_skewness  Profile_kurtosis    DM_mean  \\\n",
       "0    117.406250      46.359404          0.046957          0.246530   0.954013   \n",
       "1    109.351562      53.941605          0.257402         -0.273154   1.635452   \n",
       "2    120.914062      54.850226         -0.039546         -0.564141  11.442308   \n",
       "3     88.375000      40.547811          0.532864          1.281527   4.700669   \n",
       "4    113.070312      49.034137          0.391063          0.227022   0.811037   \n",
       "\n",
       "    DM_stdev  DM_skewness  DM_kurtosis  \n",
       "0  11.210157    15.409941   280.957981  \n",
       "1  13.826900    12.151938   173.734192  \n",
       "2  43.475736     3.764980    12.969973  \n",
       "3  27.483361     6.288800    40.712158  \n",
       "4  10.397746    18.193799   384.449773  "
      ]
     },
     "execution_count": 7,
     "metadata": {},
     "output_type": "execute_result"
    }
   ],
   "source": [
    "df.head()"
   ]
  },
  {
   "cell_type": "code",
   "execution_count": 8,
   "id": "3f40d4da",
   "metadata": {},
   "outputs": [],
   "source": [
    "dissimilarity = pd.DataFrame(distance_matrix(df.values, df.values),index=df.index,columns=df.index)"
   ]
  },
  {
   "cell_type": "code",
   "execution_count": 9,
   "id": "a0fb95a0",
   "metadata": {},
   "outputs": [],
   "source": [
    "norm_diss = np.array(dissimilarity/dissimilarity.iloc[np.argmin(dissimilarity.sum())].sum())"
   ]
  },
  {
   "cell_type": "code",
   "execution_count": 10,
   "id": "5198f353",
   "metadata": {},
   "outputs": [],
   "source": [
    "E = np.array(df)"
   ]
  },
  {
   "cell_type": "code",
   "execution_count": 11,
   "id": "66451194",
   "metadata": {},
   "outputs": [
    {
     "name": "stdout",
     "output_type": "stream",
     "text": [
      "Sigma_0 7.587135646925732 \n",
      "Sigma_f 1.5174271293851462\n"
     ]
    }
   ],
   "source": [
    "n_iter = 50\n",
    "q = 5\n",
    "n = 1.1\n",
    "x = 5\n",
    "y = 5\n",
    "C = int(x*y)\n",
    "N = E.shape[0]\n",
    "sigma_0 = np.sqrt(-(C+C)/2*np.log(0.1))\n",
    "sigma_f = np.sqrt(-1/2*np.log(0.01))\n",
    "print('Sigma_0', sigma_0, '\\nSigma_f', sigma_f)"
   ]
  },
  {
   "cell_type": "code",
   "execution_count": 12,
   "id": "dc95b67f",
   "metadata": {},
   "outputs": [],
   "source": [
    "def calc_sigma(t):\n",
    "    return sigma_0*pow((sigma_f/sigma_0),t/50)"
   ]
  },
  {
   "cell_type": "code",
   "execution_count": 13,
   "id": "808a811b",
   "metadata": {},
   "outputs": [],
   "source": [
    "def calc_h(nodes,s,r,sigma):\n",
    "    s=int(s)\n",
    "    r=int(r)\n",
    "    dist = delta[i,j]\n",
    "    return np.exp(-dist/2*np.square(sigma))"
   ]
  },
  {
   "cell_type": "code",
   "execution_count": 14,
   "id": "f5a08020",
   "metadata": {},
   "outputs": [],
   "source": [
    "nodes = np.zeros((5,5,2))"
   ]
  },
  {
   "cell_type": "code",
   "execution_count": 15,
   "id": "558e6d28",
   "metadata": {},
   "outputs": [],
   "source": [
    "nodes = []\n",
    "for i in range(1,x+1):\n",
    "    for j in range(1,y+1):\n",
    "        nodes.append([i,j])"
   ]
  },
  {
   "cell_type": "code",
   "execution_count": 16,
   "id": "41d7104e",
   "metadata": {},
   "outputs": [],
   "source": [
    "delta = np.empty((C,C))"
   ]
  },
  {
   "cell_type": "code",
   "execution_count": 17,
   "id": "a55a08ea",
   "metadata": {},
   "outputs": [],
   "source": [
    "for i in range(delta.shape[0]):\n",
    "    for j in range(delta.shape[1]):\n",
    "        delta[i,j] = np.square(distance.euclidean(nodes[i],nodes[j]))"
   ]
  },
  {
   "cell_type": "code",
   "execution_count": 18,
   "id": "a7adada8",
   "metadata": {},
   "outputs": [],
   "source": [
    "t = 0\n",
    "sigma = calc_sigma(0)"
   ]
  },
  {
   "cell_type": "code",
   "execution_count": 19,
   "id": "950120e0",
   "metadata": {},
   "outputs": [],
   "source": [
    "h_matrix = np.empty((C,C))\n",
    "\n",
    "for i in range(h_matrix.shape[0]):\n",
    "    for j in range(h_matrix.shape[1]):\n",
    "        h_matrix[i,j] = calc_h(nodes,i,j,sigma)"
   ]
  },
  {
   "cell_type": "code",
   "execution_count": 20,
   "id": "7903fdae",
   "metadata": {},
   "outputs": [],
   "source": [
    "G = []\n",
    "for i in range(C):\n",
    "    G.append(np.array(df.sample(5).index))\n",
    "G=np.array(G)"
   ]
  },
  {
   "cell_type": "code",
   "execution_count": 21,
   "id": "ea42b7a3",
   "metadata": {},
   "outputs": [],
   "source": [
    "v = pd.DataFrame(np.random.rand(C,5))\n",
    "v_row_sum = np.array(v.sum(axis=1))\n",
    "v = np.array(v)\n",
    "\n",
    "for i in range(v.shape[0]):\n",
    "    for j in range(v.shape[1]):\n",
    "        v[i,j] = v[i,j]/v_row_sum[i]"
   ]
  },
  {
   "cell_type": "code",
   "execution_count": 22,
   "id": "9d8e7662",
   "metadata": {},
   "outputs": [],
   "source": [
    "def D_vr(e,r):\n",
    "    G_r = G[r]\n",
    "    return sum(\n",
    "        [np.power(v[r,i],n)*norm_diss[e,G_r[i]] for i in range(v.shape[1])]\n",
    "#         [np.power(v[r,i],n)*distance.euclidean(e,G_r[i]) for i in range(v.shape[1])]\n",
    "    )"
   ]
  },
  {
   "cell_type": "code",
   "execution_count": 23,
   "id": "b1963ef5",
   "metadata": {
    "scrolled": true
   },
   "outputs": [
    {
     "name": "stdout",
     "output_type": "stream",
     "text": [
      "CPU times: user 7.66 s, sys: 0 ns, total: 7.66 s\n",
      "Wall time: 7.66 s\n"
     ]
    }
   ],
   "source": [
    "%%time\n",
    "P = [[] for i in range(C)]\n",
    "elements_clusters = defaultdict()\n",
    "clusters_array = np.zeros(N)\n",
    "for k in range(N):\n",
    "    #calculate f_ek\n",
    "    deltas = np.empty(C)\n",
    "    for s in range(C):\n",
    "        val = sum(\n",
    "            [\n",
    "                h_matrix[s,r]*D_vr(k,r) for r in range(C)\n",
    "            ]\n",
    "        )\n",
    "\n",
    "        deltas[s] = val\n",
    "\n",
    "    k_cluster = np.argmin(deltas)\n",
    "    elements_clusters[k] = {'cluster': k_cluster, 'element': E[k]}\n",
    "    clusters_array[k] = k_cluster\n",
    "    clusters_array = clusters_array.astype(int)\n",
    "    P[k_cluster].append(k)     "
   ]
  },
  {
   "cell_type": "code",
   "execution_count": 24,
   "id": "37f1522f",
   "metadata": {
    "scrolled": true
   },
   "outputs": [
    {
     "name": "stdout",
     "output_type": "stream",
     "text": [
      "Iter  2\n"
     ]
    },
    {
     "data": {
      "application/vnd.jupyter.widget-view+json": {
       "model_id": "949972d541d744bb99de707ae0629aad",
       "version_major": 2,
       "version_minor": 0
      },
      "text/plain": [
       "  0%|          | 0/25 [00:00<?, ?it/s]"
      ]
     },
     "metadata": {},
     "output_type": "display_data"
    },
    {
     "name": "stderr",
     "output_type": "stream",
     "text": [
      "\n",
      "KeyboardInterrupt\n",
      "\n"
     ]
    }
   ],
   "source": [
    "# %%time\n",
    "v_t = v.copy()\n",
    "for t in tqdm(range(1,6)):#range(1,n_iter+1):\n",
    "    gc.collect()\n",
    "    clear_output(wait=True)\n",
    "    print('Iter ',t)\n",
    "    sigma_t = calc_sigma(t)\n",
    "    h_t = np.empty((C,C))\n",
    "    \n",
    "    for i in range(C):\n",
    "        for j in range(C):\n",
    "            h_t[i,j] = calc_h(nodes,i,j,sigma_t)\n",
    "    \n",
    "    ## step 1: compute Gr\n",
    "    for r in tqdm(range(C)):\n",
    "        g = []\n",
    "\n",
    "        for h in range(N):\n",
    "            hfec = np.array([h_t[int(x),r] for x in clusters_array])\n",
    "            dist = norm_diss[h]\n",
    "            val = (dist*hfec).sum()\n",
    "\n",
    "            g.append((h,val))\n",
    "            \n",
    "        g = sorted(g, key= lambda x: x[1])[:q]\n",
    "        \n",
    "        G[r] = np.array([pair[0] for pair in g])\n",
    "    \n",
    "    \n",
    "#     print('Iter ',t, '- Weighting')\n",
    "    ## step 2: weighting\n",
    "    for r in tqdm(range(v_t.shape[0])): #for all lines of v\n",
    "        for e_idx in range(v_t.shape[1]): #for all columns of v\n",
    "            base_sum = []\n",
    "\n",
    "            upper = sum([h_t[clusters_array[k],r]*norm_diss[k,G[r,e_idx]] for k in range(N)])\n",
    "            \n",
    "            for element in G[r]:\n",
    "                lower = np.sum(\n",
    "                    [h_t[clusters_array[k],r]*norm_diss[k,element] for k in range(N)]\n",
    "                )\n",
    "\n",
    "                base_sum.append(\n",
    "                    pow(upper/lower,1/(n-1))\n",
    "                )\n",
    "            \n",
    "            v_t[r][e_idx] = 1/sum(base_sum)\n",
    "            \n",
    "#     print('Iter ',t, '- Assignment')\n",
    "    ## step 3: assignment\n",
    "    P = [[] for i in range(C)]\n",
    "    elements_clusters = defaultdict()\n",
    "    \n",
    "    for k in range(N):\n",
    "        #calculate f_ek\n",
    "        deltas = np.empty(C)\n",
    "        for s in range(C):          \n",
    "            val = sum(\n",
    "                [\n",
    "                    h_t[s,r]*D_vr(k,r) for r in range(C)\n",
    "                ]\n",
    "            )\n",
    "\n",
    "            deltas[s] = val\n",
    "\n",
    "        k_cluster = np.argmin(deltas)\n",
    "        elements_clusters[k] = {'cluster': k_cluster, 'element': E[k]}\n",
    "        clusters_array[k] = k_cluster\n",
    "\n",
    "        P[k_cluster].append(k)     "
   ]
  },
  {
   "cell_type": "code",
   "execution_count": null,
   "id": "783e1d05",
   "metadata": {},
   "outputs": [],
   "source": [
    "results = defaultdict()\n",
    "for idx,r in enumerate(P):\n",
    "    r_labels = [labels.iloc[val] for val in r]\n",
    "    positives = sum(r_labels)\n",
    "    negatives = abs(len(r_labels) - positives)\n",
    "    \n",
    "    results[idx] = {\n",
    "        'positives': positives,\n",
    "        'negatives': negatives\n",
    "    }"
   ]
  },
  {
   "cell_type": "code",
   "execution_count": null,
   "id": "39e1ae58",
   "metadata": {},
   "outputs": [],
   "source": [
    "fig,ax = plt.subplots(5,5,figsize=(10,10))\n",
    "ax = ax.flatten()\n",
    "sbt = ['p','n']\n",
    "for idx, res in enumerate(results):\n",
    "    p = results[idx]['positives']\n",
    "    n = results[idx]['negatives']\n",
    "\n",
    "    ax[idx].pie([p,n],labels=sbt)"
   ]
  },
  {
   "cell_type": "markdown",
   "id": "14741eda",
   "metadata": {},
   "source": [
    "## old"
   ]
  },
  {
   "cell_type": "code",
   "execution_count": null,
   "id": "b5d6d6c6",
   "metadata": {
    "scrolled": true
   },
   "outputs": [],
   "source": [
    "# %%time\n",
    "# v_t = v.copy()\n",
    "# for t in tqdm(range(1,51)):#range(1,n_iter+1):\n",
    "# #     clear_output(wait=True)\n",
    "#     print('Iter ',t)\n",
    "#     sigma_t = calc_sigma(t)\n",
    "#     h_t = np.empty((C,C))\n",
    "    \n",
    "#     for i in range(C):\n",
    "#         for j in range(C):\n",
    "#             h_t[i,j] = calc_h(nodes,i,j,sigma_t)\n",
    "    \n",
    "#     ## step 1: compute Gr\n",
    "#     for r in tqdm(range(C)):\n",
    "#         g = []\n",
    "        \n",
    "#         for h in range(norm_diss.shape[0]):\n",
    "#             values_array = np.empty((norm_diss.shape[0],norm_diss.shape[0]))\n",
    "#             for k in range(h,norm_diss.shape[0]):\n",
    "#                 rescalc = (\n",
    "#                     h_t[elements_clusters[k]['cluster'],r]\n",
    "#                     *distance.euclidean(elements_clusters[k]['element'],elements_clusters[h]['element'])\n",
    "#                 )\n",
    "#                 values_array[h,k] = rescalc\n",
    "#                 values_array[k,h] = rescalc\n",
    "            \n",
    "#             val = values_array.sum(axis=1)[h]\n",
    "#             g.append((h,val))\n",
    "            \n",
    "#         g = sorted(g, key= lambda x: x[1])[:q]\n",
    "        \n",
    "#         G[r] = np.array([norm_diss[pair[0]] for pair in g])\n",
    "    \n",
    "    \n",
    "# #     print('Iter ',t, '- Weighting')\n",
    "#     ## step 2: weighting\n",
    "#     for r in tqdm(range(v_t.shape[0])): #for all lines of v\n",
    "#         for e_idx in range(v_t.shape[1]): #for all columns of v\n",
    "#             base_sum = []\n",
    "            \n",
    "#             upper = np.sum(\n",
    "#                 [\n",
    "#                     (\n",
    "#                         calc_h(nodes, elements_clusters[k]['cluster'],r, sigma_t)\n",
    "#                         *distance.euclidean(elements_clusters[k]['element'],G[r][e_idx])\n",
    "#                     ) \n",
    "#                     for k in range(norm_diss.shape[0]) \n",
    "#                 ]\n",
    "#             )\n",
    "            \n",
    "#             for element in G[r]:            \n",
    "#                 lower = np.sum(\n",
    "#                     [\n",
    "#                         (\n",
    "#                             calc_h(nodes, elements_clusters[k]['cluster'],r, sigma_t)\n",
    "#                             *distance.euclidean(elements_clusters[k]['element'],element)\n",
    "#                         ) \n",
    "#                         for k in range(norm_diss.shape[0]) \n",
    "#                     ]\n",
    "#                 )\n",
    "\n",
    "#                 base_sum.append(\n",
    "#                     pow(upper/lower,1/(n-1))\n",
    "#                 )\n",
    "            \n",
    "#             v_t[r][e_idx] = 1/sum(base_sum)\n",
    "            \n",
    "# #     print('Iter ',t, '- Assignment')\n",
    "#     ## step 3: assignment\n",
    "#     P = [[] for i in range(C)]\n",
    "#     indices = list(range(norm_diss.shape[0]))\n",
    "#     elements_clusters = defaultdict()\n",
    "    \n",
    "#     for k in tqdm(indices):\n",
    "#         #calculate f_ek\n",
    "#         deltas = np.empty(C)\n",
    "#         for s in range(C):\n",
    "#             val = sum(\n",
    "#                 [\n",
    "#                     calc_h(nodes,s,r,sigma)*D_vr(norm_diss[k],r) for r in range(C)\n",
    "#                 ]\n",
    "#             )\n",
    "\n",
    "#             deltas[s] = val\n",
    "\n",
    "#         k_cluster = np.argmin(deltas)\n",
    "#         elements_clusters[k] = {'cluster': k_cluster, 'element': norm_diss[k]}\n",
    "\n",
    "#         P[k_cluster].append(k)   "
   ]
  }
 ],
 "metadata": {
  "kernelspec": {
   "display_name": "Python 3 (ipykernel)",
   "language": "python",
   "name": "python3"
  },
  "language_info": {
   "codemirror_mode": {
    "name": "ipython",
    "version": 3
   },
   "file_extension": ".py",
   "mimetype": "text/x-python",
   "name": "python",
   "nbconvert_exporter": "python",
   "pygments_lexer": "ipython3",
   "version": "3.10.8"
  }
 },
 "nbformat": 4,
 "nbformat_minor": 5
}
