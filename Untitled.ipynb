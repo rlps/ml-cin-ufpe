{
 "cells": [
  {
   "cell_type": "code",
   "execution_count": 1,
   "id": "242cafc6",
   "metadata": {},
   "outputs": [],
   "source": [
    "def test():\n",
    "    return 2,3"
   ]
  },
  {
   "cell_type": "code",
   "execution_count": null,
   "id": "f4af8b15",
   "metadata": {},
   "outputs": [],
   "source": []
  }
 ],
 "metadata": {
  "kernelspec": {
   "display_name": "Python 3 (ipykernel)",
   "language": "python",
   "name": "python3"
  },
  "language_info": {
   "codemirror_mode": {
    "name": "ipython",
    "version": 3
   },
   "file_extension": ".py",
   "mimetype": "text/x-python",
   "name": "python",
   "nbconvert_exporter": "python",
   "pygments_lexer": "ipython3",
   "version": "3.10.8"
  }
 },
 "nbformat": 4,
 "nbformat_minor": 5
}
